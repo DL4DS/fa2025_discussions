{
 "cells": [
  {
   "cell_type": "code",
   "execution_count": 5,
   "id": "c9555ab0",
   "metadata": {},
   "outputs": [
    {
     "data": {
      "text/plain": [
       "'2.8.0+cu128'"
      ]
     },
     "execution_count": 5,
     "metadata": {},
     "output_type": "execute_result"
    }
   ],
   "source": [
    "import os\n",
    "import math\n",
    "import socket\n",
    "import psutil\n",
    "import getpass\n",
    "import datetime\n",
    "import numpy as np\n",
    "import pandas as pd\n",
    "import matplotlib.pyplot as plt\n",
    "from sklearn.model_selection import train_test_split\n",
    "\n",
    "import torch\n",
    "import torchvision\n",
    "import torch.nn as nn\n",
    "import torch.optim as optim\n",
    "import torchvision.transforms as transforms\n",
    "torch.__version__"
   ]
  },
  {
   "cell_type": "markdown",
   "id": "67567ff0-79eb-4453-a7a0-6ab714323fd8",
   "metadata": {},
   "source": [
    "### Exercise 1: Create a SCC session"
   ]
  },
  {
   "cell_type": "code",
   "execution_count": 4,
   "id": "659c88f8-9010-474a-b3fa-2eba19824f68",
   "metadata": {},
   "outputs": [
    {
     "name": "stdout",
     "output_type": "stream",
     "text": [
      "hostname: scc-204\n",
      "username: carrieff\n",
      "current_time: 2025-09-22T11:58:03.567222\n",
      "python_path: /share/pkg.8/academic-ml/fall-2025/install/fall-2025-pyt/lib/python3.12\n",
      "working_directory: /projectnb/ds542/archive/carrieff\n",
      "cuda_available: True\n",
      "cuda_device_count: 1\n",
      "cpu_count: 32\n",
      "memory_total_gb: 187.04\n",
      "pytorch_version: 2.8.0+cu128\n"
     ]
    }
   ],
   "source": [
    "# TODO: run this block to verify your scc environment\n",
    "\n",
    "def verify_scc_environment():\n",
    "\n",
    "    verification_info = {\n",
    "        'hostname': socket.gethostname(),\n",
    "        'username': getpass.getuser(), \n",
    "        'current_time': datetime.datetime.now().isoformat(),\n",
    "        'python_path': os.path.dirname(os.__file__),\n",
    "        'working_directory': os.getcwd(),\n",
    "        'cuda_available': torch.cuda.is_available(),\n",
    "        'cuda_device_count': torch.cuda.device_count() if torch.cuda.is_available() else 0,\n",
    "        'cpu_count': psutil.cpu_count(),\n",
    "        'memory_total_gb': round(psutil.virtual_memory().total / (1024**3), 2),\n",
    "        'pytorch_version': torch.__version__\n",
    "    }\n",
    "    \n",
    "    if 'scc' not in verification_info['hostname'].lower() and 'cluster' not in verification_info['hostname'].lower():\n",
    "        print(\"Fail.\")\n",
    "    \n",
    "    for key, value in verification_info.items():\n",
    "        print(f\"{key}: {value}\")\n",
    "    \n",
    "    return verification_info\n",
    "\n",
    "verify_info = verify_scc_environment()"
   ]
  },
  {
   "cell_type": "markdown",
   "id": "a75b2c8b-84ff-4a37-9838-010dbbef8254",
   "metadata": {},
   "source": [
    "### Exercise 2: Create a Tensor on GPU"
   ]
  },
  {
   "cell_type": "code",
   "execution_count": 1,
   "id": "4398c541-7aa4-4814-acc6-9081cc1d6577",
   "metadata": {},
   "outputs": [],
   "source": [
    "# TODO: create a tensor on GPU using `device='cuda:0`\n",
    "\n",
    "t_gpu = torch.tensor(__fill__)\n",
    "print(t_gpu)"
   ]
  },
  {
   "cell_type": "markdown",
   "id": "946309b2-33b1-44f1-b2ca-e37bec2400c2",
   "metadata": {},
   "source": [
    "### Exercise 3: Impleting a CPU hard task on GPU device"
   ]
  },
  {
   "cell_type": "code",
   "execution_count": 2,
   "id": "48e40ac4-2f5d-4a3c-8543-0ebc1e4b35bc",
   "metadata": {},
   "outputs": [],
   "source": [
    "n = 10000\n",
    "i, k = 1234, 5678\n",
    "\n",
    "\n",
    "# Build A, B on GPU via broadcasting\n",
    "device = torch.device(__fill__)\n",
    "rows = torch.arange(1, n+1, device=device, dtype=torch.float64).view(-1, 1)\n",
    "cols = torch.arange(1, n+1, device=device, dtype=torch.float64).view(1, -1)\n",
    "\n",
    "A = rows + cols                    # A_{ij} = i + j\n",
    "B = cols.transpose(0,1) - cols     # B_{jk} = j - k\n",
    "\n",
    "\n",
    "# TODO: multiply on GPU\n",
    "C = __fill__  # 10k x 10k matrix multiplication, which is fast on GPU but painful on CPU.\n",
    "\n",
    "val_gpu = C[i-1, k-1].item()\n",
    "print(int(val_gpu))           "
   ]
  },
  {
   "cell_type": "markdown",
   "id": "e7e939e3-24e9-4dcb-9022-f545136ee0bf",
   "metadata": {},
   "source": [
    "### Exercise 4: Read dataset from shared folder: `/projectnb/ds542/materials/diabetes.csv`"
   ]
  },
  {
   "cell_type": "code",
   "execution_count": 7,
   "id": "119a61d5-3e0d-4bcb-8b38-fcbdb7668cca",
   "metadata": {},
   "outputs": [],
   "source": [
    "# TODO: run this block to import the CSV file from the shared folder\n",
    "\n",
    "df = pd.read_csv('/projectnb/ds542/materials/diabetes.csv')\n",
    "df.head()"
   ]
  },
  {
   "cell_type": "markdown",
   "id": "0dd7f4ec-2bf1-42a8-b07b-c8ca99632589",
   "metadata": {},
   "source": [
    "### Exercise 5: Train a Neural Network with above dataset"
   ]
  },
  {
   "cell_type": "code",
   "execution_count": 11,
   "id": "6744e8d4-3440-448e-b13a-0bab55ee3136",
   "metadata": {},
   "outputs": [
    {
     "name": "stdout",
     "output_type": "stream",
     "text": [
      "Neural Network Accuracy: 0.7969\n"
     ]
    },
    {
     "data": {
      "image/png": "[encoded data removed]",
      "text/plain": [
       "<Figure size 1200x500 with 1 Axes>"
      ]
     },
     "metadata": {},
     "output_type": "display_data"
    }
   ],
   "source": [
    "X = torch.tensor(df.drop(\"Outcome\", axis=1).values, dtype=torch.float32)\n",
    "y = torch.tensor(df[\"Outcome\"].values, dtype=torch.float32).view(-1,1)\n",
    "X_train, X_test, y_train, y_test = train_test_split(X, y, test_size=0.2, random_state=42)\n",
    "\n",
    "\n",
    "# define a 2-layer NN\n",
    "class ShallowNN(nn.Module):\n",
    "    def __init__(self):\n",
    "        super().__init__()\n",
    "        self.fc1 = nn.Linear(X.shape[1], 8)\n",
    "        self.fc2 = nn.Linear(8, 2)\n",
    "        self.fc3 = nn.Linear(2, 1)\n",
    "    def forward(self, x):\n",
    "        x = torch.relu(self.fc1(x))\n",
    "        x = torch.relu(self.fc2(x))\n",
    "        return torch.sigmoid(self.fc3(x))\n",
    "\n",
    "\n",
    "#TODO: optimize/run the model by changing any params\n",
    "model = ShallowNN()\n",
    "criterion = nn.BCELoss()\n",
    "optimizer = optim.Adam(model.parameters(), lr=0.1)\n",
    "\n",
    "losses_nn = []\n",
    "\n",
    "\n",
    "# Training\n",
    "for epoch in range(5):\n",
    "    optimizer.zero_grad()\n",
    "    output = model(X_train)\n",
    "    loss = criterion(output, y_train)\n",
    "    loss.backward()\n",
    "    optimizer.step()\n",
    "    losses_nn.append(loss.item())\n",
    "\n",
    "# Predictions on the full dataset\n",
    "with torch.no_grad():\n",
    "    final_predictions_nn = model(X)\n",
    "\n",
    "# Accuracy\n",
    "predicted_classes_nn = (final_predictions_nn > 0.5).float()\n",
    "accuracy_nn = (predicted_classes_nn == y).float().mean()\n",
    "print(f\"Neural Network Accuracy: {accuracy_nn:.4f}\")\n",
    "\n",
    "\n",
    "# Plot\n",
    "plt.figure(figsize=(12, 5))\n",
    "\n",
    "plt.plot(losses_nn)\n",
    "plt.title('Neural Network Training Loss')\n",
    "plt.xlabel('Epoch')\n",
    "plt.ylabel('Loss')\n",
    "plt.grid(True)\n",
    "\n",
    "plt.tight_layout()\n",
    "plt.show()"
   ]
  },
  {
   "cell_type": "code",
   "execution_count": null,
   "id": "6036fe58-4de8-4046-805b-ce7aac02e299",
   "metadata": {},
   "outputs": [],
   "source": []
  }
 ],
 "metadata": {
  "kernelspec": {
   "display_name": "Python 3 (ipykernel)",
   "language": "python",
   "name": "python3"
  },
  "language_info": {
   "codemirror_mode": {
    "name": "ipython",
    "version": 3
   },
   "file_extension": ".py",
   "mimetype": "text/x-python",
   "name": "python",
   "nbconvert_exporter": "python",
   "pygments_lexer": "ipython3",
   "version": "3.12.11"
  }
 },
 "nbformat": 4,
 "nbformat_minor": 5
}
